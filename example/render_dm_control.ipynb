{
 "cells": [
  {
   "cell_type": "code",
   "execution_count": null,
   "metadata": {
    "collapsed": true
   },
   "outputs": [],
   "source": [
    "from dm_control import suite\n",
    "import matplotlib.pyplot as plt\n",
    "import numpy as np\n",
    "import cv2\n",
    "import os\n",
    "\n",
    "os.environ['MUJOCO_GL']='osmesa'\n",
    "\n",
    "max_frame = 90\n",
    "\n",
    "width = 480\n",
    "height = 480\n",
    "video = np.zeros((90, height, 2 * width, 3), dtype=np.uint8)\n",
    "\n",
    "# Load one task:\n",
    "env = suite.load(domain_name=\"cartpole\", task_name=\"swingup\")\n",
    "\n",
    "# Step through an episode and print out reward, discount and observation.\n",
    "action_spec = env.action_spec()\n",
    "time_step = env.reset()\n",
    "\n",
    "cv2.namedWindow(\"frame\", cv2.WINDOW_NORMAL)\n",
    "\n",
    "while not time_step.last():\n",
    "  for i in range(max_frame):\n",
    "    action = np.random.uniform(action_spec.minimum,\n",
    "                             action_spec.maximum,\n",
    "                             size=action_spec.shape)\n",
    "    time_step = env.step(action)\n",
    "    video[i] = np.hstack([env.physics.render(height, width, camera_id=0),\n",
    "                          env.physics.render(height, width, camera_id=1)])\n",
    "    #print(time_step.reward, time_step.discount, time_step.observation)\n",
    "  for i in range(max_frame):\n",
    "    cv2.imshow(\"frame\", video[i])\n",
    "    cv2.waitKey(5)\n",
    "\n",
    "cv2.destroyAllWindows()"
   ]
  }
 ],
 "metadata": {
  "kernelspec": {
   "display_name": "Python 3",
   "language": "python",
   "name": "python3"
  },
  "language_info": {
   "codemirror_mode": {
    "name": "ipython",
    "version": 3
   },
   "file_extension": ".py",
   "mimetype": "text/x-python",
   "name": "python",
   "nbconvert_exporter": "python",
   "pygments_lexer": "ipython3",
   "version": "3.6.4"
  }
 },
 "nbformat": 4,
 "nbformat_minor": 2
}
